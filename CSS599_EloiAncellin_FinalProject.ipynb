{
 "cells": [
  {
   "cell_type": "code",
   "execution_count": 3,
   "metadata": {},
   "outputs": [],
   "source": [
    "import keras\n",
    "keras.__version__\n",
    "import os\n",
    "import numpy as np\n",
    "import pandas as pd\n",
    "import shutil\n",
    "import imageio\n",
    "import pathlib"
   ]
  },
  {
   "cell_type": "code",
   "execution_count": 4,
   "metadata": {},
   "outputs": [
    {
     "name": "stdout",
     "output_type": "stream",
     "text": [
      "13680\n",
      "/Users/eloi/Documents/Travail/ECE/Ing3/S5/BU/599-Biometrics/Final project/FP_Code\n",
      "13680\n"
     ]
    }
   ],
   "source": [
    "data = pd.read_csv('data/legend.csv')\n",
    "print(len(data))\n",
    "\n",
    "HOME_DIR = os.getcwd()\n",
    "print(HOME_DIR)\n",
    "IMAGE_DIR = 'images'\n",
    "DATASET_DIR = HOME_DIR + '/dataset'\n",
    "data['emotion'] = data['emotion'].str.lower()\n",
    "images = data['image']\n",
    "\n",
    "training_paths = pathlib.Path('').glob('*/images/*.jpg')\n",
    "train_sorted = sorted([x for x in training_paths])\n",
    "\n",
    "for image in train_sorted:\n",
    "    try:\n",
    "        direc= HOME_DIR + '/images/'+image\n",
    "        img=imageio.imread(image)\n",
    "    except FileNotFoundError:\n",
    "        data = data[data['image']==image]\n",
    "        \n",
    "\n",
    "print(len(data))"
   ]
  },
  {
   "cell_type": "code",
   "execution_count": 5,
   "metadata": {},
   "outputs": [
    {
     "data": {
      "text/plain": [
       "array(['surprise', 'disgust', 'fear', 'neutral', 'happiness', 'sadness',\n",
       "       'anger'], dtype=object)"
      ]
     },
     "execution_count": 5,
     "metadata": {},
     "output_type": "execute_result"
    }
   ],
   "source": [
    "data.emotion.unique()"
   ]
  },
  {
   "cell_type": "code",
   "execution_count": 6,
   "metadata": {},
   "outputs": [
    {
     "data": {
      "text/html": [
       "<div>\n",
       "<style scoped>\n",
       "    .dataframe tbody tr th:only-of-type {\n",
       "        vertical-align: middle;\n",
       "    }\n",
       "\n",
       "    .dataframe tbody tr th {\n",
       "        vertical-align: top;\n",
       "    }\n",
       "\n",
       "    .dataframe thead th {\n",
       "        text-align: right;\n",
       "    }\n",
       "</style>\n",
       "<table border=\"1\" class=\"dataframe\">\n",
       "  <thead>\n",
       "    <tr style=\"text-align: right;\">\n",
       "      <th></th>\n",
       "      <th>user.id</th>\n",
       "      <th>image</th>\n",
       "      <th>emotion</th>\n",
       "    </tr>\n",
       "  </thead>\n",
       "  <tbody>\n",
       "    <tr>\n",
       "      <th>0</th>\n",
       "      <td>628</td>\n",
       "      <td>facial-expressions_2868585k.jpg</td>\n",
       "      <td>surprise</td>\n",
       "    </tr>\n",
       "    <tr>\n",
       "      <th>1</th>\n",
       "      <td>628</td>\n",
       "      <td>facial-expressions_2868584k.jpg</td>\n",
       "      <td>disgust</td>\n",
       "    </tr>\n",
       "    <tr>\n",
       "      <th>2</th>\n",
       "      <td>628</td>\n",
       "      <td>facial-expressions_2868582k.jpg</td>\n",
       "      <td>fear</td>\n",
       "    </tr>\n",
       "    <tr>\n",
       "      <th>3</th>\n",
       "      <td>dwdii</td>\n",
       "      <td>Aaron_Eckhart_0001.jpg</td>\n",
       "      <td>neutral</td>\n",
       "    </tr>\n",
       "    <tr>\n",
       "      <th>4</th>\n",
       "      <td>302</td>\n",
       "      <td>Aaron_Guiel_0001.jpg</td>\n",
       "      <td>happiness</td>\n",
       "    </tr>\n",
       "  </tbody>\n",
       "</table>\n",
       "</div>"
      ],
      "text/plain": [
       "  user.id                            image    emotion\n",
       "0     628  facial-expressions_2868585k.jpg   surprise\n",
       "1     628  facial-expressions_2868584k.jpg    disgust\n",
       "2     628  facial-expressions_2868582k.jpg       fear\n",
       "3   dwdii           Aaron_Eckhart_0001.jpg    neutral\n",
       "4     302             Aaron_Guiel_0001.jpg  happiness"
      ]
     },
     "execution_count": 6,
     "metadata": {},
     "output_type": "execute_result"
    }
   ],
   "source": [
    "data.head()\n"
   ]
  },
  {
   "cell_type": "code",
   "execution_count": 7,
   "metadata": {},
   "outputs": [
    {
     "data": {
      "text/plain": [
       "neutral      6868\n",
       "happiness    5696\n",
       "surprise      368\n",
       "sadness       268\n",
       "anger         251\n",
       "disgust       208\n",
       "fear           21\n",
       "Name: emotion, dtype: int64"
      ]
     },
     "execution_count": 7,
     "metadata": {},
     "output_type": "execute_result"
    }
   ],
   "source": [
    "data['emotion'].value_counts()"
   ]
  },
  {
   "cell_type": "code",
   "execution_count": 8,
   "metadata": {},
   "outputs": [
    {
     "name": "stdout",
     "output_type": "stream",
     "text": [
      "File already exists\n"
     ]
    }
   ],
   "source": [
    "#Make a directory to sort the data...Etc\n",
    "directories = ['train', 'validation', 'test']\n",
    "categories = ['anger', 'surprise', 'happiness', 'neutral', 'sadness','disgust','fear']\n",
    "\n",
    "train_dir = os.path.join(DATASET_DIR, 'train')\n",
    "validation_dir = os.path.join(DATASET_DIR, 'validation')\n",
    "test_dir = os.path.join(DATASET_DIR, 'test')\n",
    "\n",
    "try:\n",
    "\n",
    "    os.mkdir(DATASET_DIR)\n",
    "\n",
    "    #Directories for train, validation and test images\n",
    "    directories = ['train', 'validation', 'test']\n",
    "    categories = ['anger', 'surprise', 'happiness', 'neutral', 'sadness','disgust','fear']\n",
    "\n",
    "    train_dir = os.path.join(DATASET_DIR, 'train')\n",
    "    os.mkdir(train_dir)\n",
    "    validation_dir = os.path.join(DATASET_DIR, 'validation')\n",
    "    os.mkdir(validation_dir)\n",
    "    test_dir = os.path.join(DATASET_DIR, 'test')\n",
    "    os.mkdir(test_dir)\n",
    "\n",
    "\n",
    "\n",
    "#30% tesst, 10% validation and 60% training\n",
    "    for cate in categories:\n",
    "        for dire in directories:\n",
    "            os.mkdir(os.path.join(DATASET_DIR, dire, cate))\n",
    "            filtre = data['emotion'] == cate\n",
    "            fnames = data[filtre]['image']\n",
    "            if dire== directories[0]:\n",
    "                fnames = fnames[:(int)(0.6*len(fnames))]\n",
    "            elif dire == directories[1]:\n",
    "                fnames = fnames[(int)(0.6*len(fnames))+1:(int)(0.7*len(fnames))]\n",
    "            else:\n",
    "                fnames = fnames[(int)(0.7*len(fnames))+1:]  \n",
    "\n",
    "            for fname in fnames:\n",
    "                src = os.path.join(HOME_DIR, IMAGE_DIR, fname)\n",
    "                #print(HOME_DIR + \"/\" + IMAGE_DIR + \"/\" + fname)\n",
    "                dst = os.path.join(DATASET_DIR, dire, cate, fname)\n",
    "                #print(DATASET_DIR+ \"/\" + dire+ \"/\" +cate+ \"/\" + fname)\n",
    "                shutil.copyfile(src, dst)\n",
    "except:\n",
    "    print(\"File already exists\")           \n",
    "            \n",
    "    "
   ]
  },
  {
   "cell_type": "code",
   "execution_count": 17,
   "metadata": {},
   "outputs": [
    {
     "name": "stdout",
     "output_type": "stream",
     "text": [
      "Found 8197 images belonging to 7 classes.\n",
      "Found 1361 images belonging to 7 classes.\n",
      "Found 4101 images belonging to 7 classes.\n"
     ]
    }
   ],
   "source": [
    "from keras.preprocessing.image import ImageDataGenerator\n",
    "\n",
    "# All images will be rescaled by 1./255\n",
    "train_datagen = ImageDataGenerator(rescale=1./255)\n",
    "test_datagen = ImageDataGenerator(rescale=1./255)\n",
    "\n",
    "train_generator = train_datagen.flow_from_directory(\n",
    "        # This is the target directory\n",
    "        train_dir,\n",
    "        # All images will be resized to 150x150\n",
    "        target_size=(150, 150),\n",
    "        batch_size=20,\n",
    "        # Since we use binary_crossentropy loss, we need binary labels\n",
    "        class_mode='categorical')\n",
    "\n",
    "validation_generator = test_datagen.flow_from_directory(\n",
    "        validation_dir,\n",
    "        target_size=(150, 150),\n",
    "        batch_size=20,\n",
    "        class_mode='categorical')\n",
    "\n",
    "test_generator = test_datagen.flow_from_directory(\n",
    "        test_dir,\n",
    "        target_size=(150, 150),\n",
    "        batch_size=20,\n",
    "        class_mode='categorical')"
   ]
  },
  {
   "cell_type": "code",
   "execution_count": 9,
   "metadata": {},
   "outputs": [],
   "source": [
    "from keras import layers\n",
    "from keras import models\n",
    "\n",
    "#model = models.Sequential()\n",
    "#model.add(layers.Conv2D(32, (3, 3), activation='relu',\n",
    "#                        input_shape=(150, 150, 3)))\n",
    "#model.add(layers.MaxPooling2D((2, 2)))\n",
    "#model.add(layers.Conv2D(64, (3, 3), activation='relu'))\n",
    "#model.add(layers.MaxPooling2D((2, 2)))\n",
    "#model.add(layers.Conv2D(128, (3, 3), activation='relu'))\n",
    "#model.add(layers.MaxPooling2D((2, 2)))\n",
    "#model.add(layers.Conv2D(128, (3, 3), activation='relu'))\n",
    "#model.add(layers.MaxPooling2D((2, 2)))\n",
    "#model.add(layers.Flatten())\n",
    "#model.add(layers.Dense(512, activation='relu'))\n",
    "#model.add(layers.Dense(7, activation='softmax'))"
   ]
  },
  {
   "cell_type": "code",
   "execution_count": 51,
   "metadata": {},
   "outputs": [
    {
     "name": "stdout",
     "output_type": "stream",
     "text": [
      "Downloading data from https://github.com/fchollet/deep-learning-models/releases/download/v0.5/inception_v3_weights_tf_dim_ordering_tf_kernels_notop.h5\n",
      "87916544/87910968 [==============================] - 12s 0us/step\n"
     ]
    }
   ],
   "source": [
    "from keras.applications import InceptionV3\n",
    "\n",
    "conv_base = InceptionV3(weights='imagenet',\n",
    "                  include_top=False,\n",
    "                  input_shape=(150, 150, 3))"
   ]
  },
  {
   "cell_type": "code",
   "execution_count": null,
   "metadata": {},
   "outputs": [],
   "source": [
    "#conv_base.summary()"
   ]
  },
  {
   "cell_type": "code",
   "execution_count": 53,
   "metadata": {},
   "outputs": [],
   "source": [
    "conv_base.trainable = True\n",
    "\n",
    "set_trainable = False\n",
    "for layer in conv_base.layers:\n",
    "    if layer.name == 'block5_conv1':\n",
    "        set_trainable = True\n",
    "    if set_trainable:\n",
    "        layer.trainable = True\n",
    "    else:\n",
    "        layer.trainable = False"
   ]
  },
  {
   "cell_type": "code",
   "execution_count": 54,
   "metadata": {},
   "outputs": [
    {
     "name": "stdout",
     "output_type": "stream",
     "text": [
      "Epoch 1/5\n",
      "100/100 [==============================] - 111s 1s/step - loss: 0.1195 - acc: 0.9562 - val_loss: 0.1188 - val_acc: 0.9511\n",
      "Epoch 2/5\n",
      "100/100 [==============================] - 107s 1s/step - loss: 0.1169 - acc: 0.9538 - val_loss: 0.1211 - val_acc: 0.9527\n",
      "Epoch 3/5\n",
      "100/100 [==============================] - 105s 1s/step - loss: 0.1195 - acc: 0.9548 - val_loss: 0.1368 - val_acc: 0.9482\n",
      "Epoch 4/5\n",
      "100/100 [==============================] - 104s 1s/step - loss: 0.1158 - acc: 0.9578 - val_loss: 0.1178 - val_acc: 0.9536\n",
      "Epoch 5/5\n",
      "100/100 [==============================] - 109s 1s/step - loss: 0.1154 - acc: 0.9581 - val_loss: 0.1281 - val_acc: 0.9531\n"
     ]
    }
   ],
   "source": [
    "from keras import optimizers\n",
    "model.compile(loss='binary_crossentropy',\n",
    "              optimizer=optimizers.RMSprop(lr=1e-5),\n",
    "              metrics=['acc'])\n",
    "\n",
    "from keras.callbacks import TensorBoard\n",
    "\n",
    "       \n",
    "callbacks_list = [\n",
    "keras.callbacks.ReduceLROnPlateau(monitor='val_loss', factor=0.1, patience=5),\n",
    "TensorBoard(\n",
    "    log_dir = 'log_dir',\n",
    "    batch_size=20,\n",
    "    write_graph=True,\n",
    "    write_grads=True,\n",
    "    write_images=True,\n",
    "    update_freq='epoch'\n",
    ")\n",
    "]"
   ]
  },
  {
   "cell_type": "code",
   "execution_count": 55,
   "metadata": {},
   "outputs": [],
   "source": [
    "model.save(\"\")"
   ]
  },
  {
   "cell_type": "code",
   "execution_count": 13,
   "metadata": {},
   "outputs": [
    {
     "name": "stdout",
     "output_type": "stream",
     "text": [
      "data batch shape: (20, 150, 150, 3)\n",
      "labels batch shape: (20, 7)\n"
     ]
    }
   ],
   "source": [
    "for data_batch, labels_batch in train_generator:\n",
    "    print('data batch shape:', data_batch.shape)\n",
    "    print('labels batch shape:', labels_batch.shape)\n",
    "    break"
   ]
  },
  {
   "cell_type": "code",
   "execution_count": 12,
   "metadata": {},
   "outputs": [
    {
     "name": "stdout",
     "output_type": "stream",
     "text": [
      "Epoch 1/5\n",
      "100/100 [==============================] - 112s 1s/step - loss: 1.0530 - acc: 0.5025 - val_loss: 1.0183 - val_acc: 0.5070\n",
      "Epoch 2/5\n",
      "100/100 [==============================] - 109s 1s/step - loss: 0.9724 - acc: 0.5640 - val_loss: 0.9013 - val_acc: 0.7411\n",
      "Epoch 3/5\n",
      "100/100 [==============================] - 112s 1s/step - loss: 0.8376 - acc: 0.7163 - val_loss: 0.7036 - val_acc: 0.7696\n",
      "Epoch 4/5\n",
      "100/100 [==============================] - 111s 1s/step - loss: 0.7753 - acc: 0.7455 - val_loss: 0.6996 - val_acc: 0.7750\n",
      "Epoch 5/5\n",
      "100/100 [==============================] - 115s 1s/step - loss: 0.7023 - acc: 0.7775 - val_loss: 0.6469 - val_acc: 0.7645\n"
     ]
    }
   ],
   "source": [
    "history = model.fit_generator(\n",
    "      train_generator,\n",
    "      steps_per_epoch=100,\n",
    "      epochs=5,\n",
    "      validation_data=validation_generator,\n",
    "      validation_steps=50)"
   ]
  },
  {
   "cell_type": "code",
   "execution_count": 14,
   "metadata": {},
   "outputs": [],
   "source": [
    "model = models.load_model(\"modelv1\")"
   ]
  },
  {
   "cell_type": "code",
   "execution_count": 56,
   "metadata": {},
   "outputs": [
    {
     "data": {
      "image/png": "[encoded data removed]",
      "text/plain": [
       "<Figure size 432x288 with 1 Axes>"
      ]
     },
     "metadata": {
      "needs_background": "light"
     },
     "output_type": "display_data"
    },
    {
     "data": {
      "image/png": "[encoded data removed]",
      "text/plain": [
       "<Figure size 432x288 with 1 Axes>"
      ]
     },
     "metadata": {
      "needs_background": "light"
     },
     "output_type": "display_data"
    }
   ],
   "source": [
    "def smooth_curve(points, factor=0.8):\n",
    "  smoothed_points = []\n",
    "  for point in points:\n",
    "    if smoothed_points:\n",
    "      previous = smoothed_points[-1]\n",
    "      smoothed_points.append(previous * factor + point * (1 - factor))\n",
    "    else:\n",
    "      smoothed_points.append(point)\n",
    "  return smoothed_points\n",
    "\n",
    "plt.plot(epochs,\n",
    "         smooth_curve(acc), 'bo', label='Smoothed training acc')\n",
    "plt.plot(epochs,\n",
    "         smooth_curve(val_acc), 'b', label='Smoothed validation acc')\n",
    "plt.title('Training and validation accuracy')\n",
    "plt.legend()\n",
    "\n",
    "plt.figure()\n",
    "\n",
    "plt.plot(epochs,\n",
    "         smooth_curve(loss), 'bo', label='Smoothed training loss')\n",
    "plt.plot(epochs,\n",
    "         smooth_curve(val_loss), 'b', label='Smoothed validation loss')\n",
    "plt.title('Training and validation loss')\n",
    "plt.legend()\n",
    "\n",
    "plt.show()"
   ]
  },
  {
   "cell_type": "code",
   "execution_count": 17,
   "metadata": {},
   "outputs": [
    {
     "name": "stdout",
     "output_type": "stream",
     "text": [
      "False\n"
     ]
    }
   ],
   "source": [
    "from PIL import features\n",
    "print (features.check_module('webp'))"
   ]
  },
  {
   "cell_type": "code",
   "execution_count": 58,
   "metadata": {},
   "outputs": [
    {
     "name": "stdout",
     "output_type": "stream",
     "text": [
      "test acc: 0.920571448802948\n",
      "test loss: 0.2693943490087986\n"
     ]
    }
   ],
   "source": [
    "test_loss, test_acc = model.evaluate_generator(test_generator, steps=50)\n",
    "print('test acc:', test_acc)\n",
    "print('test loss:', test_loss)"
   ]
  },
  {
   "cell_type": "code",
   "execution_count": null,
   "metadata": {},
   "outputs": [],
   "source": []
  }
 ],
 "metadata": {
  "kernelspec": {
   "display_name": "Python 3",
   "language": "python",
   "name": "python3"
  },
  "language_info": {
   "codemirror_mode": {
    "name": "ipython",
    "version": 3
   },
   "file_extension": ".py",
   "mimetype": "text/x-python",
   "name": "python",
   "nbconvert_exporter": "python",
   "pygments_lexer": "ipython3",
   "version": "3.6.8"
  }
 },
 "nbformat": 4,
 "nbformat_minor": 2
}
